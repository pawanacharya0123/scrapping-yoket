{
 "cells": [
  {
   "cell_type": "code",
   "execution_count": 2,
   "metadata": {},
   "outputs": [],
   "source": [
    "from requests import Request, Session\n",
    "from requests.exceptions import ConnectionError, Timeout, TooManyRedirects\n",
    "import json"
   ]
  },
  {
   "cell_type": "code",
   "execution_count": 25,
   "metadata": {},
   "outputs": [],
   "source": [
    "url = 'https://pro-api.coinmarketcap.com/v1/cryptocurrency/listings/latest' \n",
    "\n",
    "parameters = {\n",
    "  'start':'1',\n",
    "  'limit':'15',\n",
    "  'convert':'USD'\n",
    "}\n",
    "headers = {\n",
    "  'Accepts': 'application/json',\n",
    "  'X-CMC_PRO_API_KEY': 'b9185df2-6056-449f-8817-1d1973db0895',\n",
    "}\n",
    "\n",
    "session = Session()\n",
    "session.headers.update(headers)\n",
    "\n",
    "try:\n",
    "  response = session.get(url, params=parameters)\n",
    "  data = json.loads(response.text)\n",
    "#   print(data)\n",
    "except (ConnectionError, Timeout, TooManyRedirects) as e:\n",
    "  print(e)"
   ]
  },
  {
   "cell_type": "code",
   "execution_count": 28,
   "metadata": {},
   "outputs": [],
   "source": [
    "import pandas as pd\n",
    "\n",
    "df= pd.json_normalize(data['data'])\n",
    "df['timestamp']= pd.to_datetime('now', utc=True)"
   ]
  },
  {
   "cell_type": "code",
   "execution_count": 38,
   "metadata": {},
   "outputs": [
    {
     "data": {
      "text/html": [
       "<div>\n",
       "<style scoped>\n",
       "    .dataframe tbody tr th:only-of-type {\n",
       "        vertical-align: middle;\n",
       "    }\n",
       "\n",
       "    .dataframe tbody tr th {\n",
       "        vertical-align: top;\n",
       "    }\n",
       "\n",
       "    .dataframe thead th {\n",
       "        text-align: right;\n",
       "    }\n",
       "</style>\n",
       "<table border=\"1\" class=\"dataframe\">\n",
       "  <thead>\n",
       "    <tr style=\"text-align: right;\">\n",
       "      <th></th>\n",
       "      <th>id</th>\n",
       "      <th>name</th>\n",
       "      <th>symbol</th>\n",
       "      <th>slug</th>\n",
       "      <th>num_market_pairs</th>\n",
       "      <th>date_added</th>\n",
       "      <th>tags</th>\n",
       "      <th>max_supply</th>\n",
       "      <th>circulating_supply</th>\n",
       "      <th>total_supply</th>\n",
       "      <th>...</th>\n",
       "      <th>quote.USD.market_cap_dominance</th>\n",
       "      <th>quote.USD.fully_diluted_market_cap</th>\n",
       "      <th>quote.USD.tvl</th>\n",
       "      <th>quote.USD.last_updated</th>\n",
       "      <th>platform.id</th>\n",
       "      <th>platform.name</th>\n",
       "      <th>platform.symbol</th>\n",
       "      <th>platform.slug</th>\n",
       "      <th>platform.token_address</th>\n",
       "      <th>timestamp</th>\n",
       "    </tr>\n",
       "  </thead>\n",
       "  <tbody>\n",
       "    <tr>\n",
       "      <th>0</th>\n",
       "      <td>1</td>\n",
       "      <td>Bitcoin</td>\n",
       "      <td>BTC</td>\n",
       "      <td>bitcoin</td>\n",
       "      <td>9987</td>\n",
       "      <td>2013-04-28T00:00:00.000Z</td>\n",
       "      <td>[mineable, pow, sha-256, store-of-value, state...</td>\n",
       "      <td>21000000.0</td>\n",
       "      <td>1.929869e+07</td>\n",
       "      <td>1.929869e+07</td>\n",
       "      <td>...</td>\n",
       "      <td>42.5085</td>\n",
       "      <td>5.080494e+11</td>\n",
       "      <td>None</td>\n",
       "      <td>2023-02-22T12:44:00.000Z</td>\n",
       "      <td>NaN</td>\n",
       "      <td>NaN</td>\n",
       "      <td>NaN</td>\n",
       "      <td>NaN</td>\n",
       "      <td>NaN</td>\n",
       "      <td>2023-02-22 12:46:31.903363+00:00</td>\n",
       "    </tr>\n",
       "    <tr>\n",
       "      <th>1</th>\n",
       "      <td>1027</td>\n",
       "      <td>Ethereum</td>\n",
       "      <td>ETH</td>\n",
       "      <td>ethereum</td>\n",
       "      <td>6490</td>\n",
       "      <td>2015-08-07T00:00:00.000Z</td>\n",
       "      <td>[pos, smart-contracts, ethereum-ecosystem, coi...</td>\n",
       "      <td>NaN</td>\n",
       "      <td>1.223739e+08</td>\n",
       "      <td>1.223739e+08</td>\n",
       "      <td>...</td>\n",
       "      <td>18.3481</td>\n",
       "      <td>2.016282e+11</td>\n",
       "      <td>None</td>\n",
       "      <td>2023-02-22T12:44:00.000Z</td>\n",
       "      <td>NaN</td>\n",
       "      <td>NaN</td>\n",
       "      <td>NaN</td>\n",
       "      <td>NaN</td>\n",
       "      <td>NaN</td>\n",
       "      <td>2023-02-22 12:46:31.903363+00:00</td>\n",
       "    </tr>\n",
       "    <tr>\n",
       "      <th>2</th>\n",
       "      <td>825</td>\n",
       "      <td>Tether</td>\n",
       "      <td>USDT</td>\n",
       "      <td>tether</td>\n",
       "      <td>48028</td>\n",
       "      <td>2015-02-25T00:00:00.000Z</td>\n",
       "      <td>[payments, stablecoin, asset-backed-stablecoin...</td>\n",
       "      <td>NaN</td>\n",
       "      <td>7.045978e+10</td>\n",
       "      <td>7.314177e+10</td>\n",
       "      <td>...</td>\n",
       "      <td>6.4152</td>\n",
       "      <td>7.315602e+10</td>\n",
       "      <td>None</td>\n",
       "      <td>2023-02-22T12:44:00.000Z</td>\n",
       "      <td>1027.0</td>\n",
       "      <td>Ethereum</td>\n",
       "      <td>ETH</td>\n",
       "      <td>ethereum</td>\n",
       "      <td>0xdac17f958d2ee523a2206206994597c13d831ec7</td>\n",
       "      <td>2023-02-22 12:46:31.903363+00:00</td>\n",
       "    </tr>\n",
       "    <tr>\n",
       "      <th>3</th>\n",
       "      <td>1839</td>\n",
       "      <td>BNB</td>\n",
       "      <td>BNB</td>\n",
       "      <td>bnb</td>\n",
       "      <td>1195</td>\n",
       "      <td>2017-07-25T00:00:00.000Z</td>\n",
       "      <td>[marketplace, centralized-exchange, payments, ...</td>\n",
       "      <td>NaN</td>\n",
       "      <td>1.578968e+08</td>\n",
       "      <td>1.599800e+08</td>\n",
       "      <td>...</td>\n",
       "      <td>4.4373</td>\n",
       "      <td>4.940517e+10</td>\n",
       "      <td>None</td>\n",
       "      <td>2023-02-22T12:44:00.000Z</td>\n",
       "      <td>NaN</td>\n",
       "      <td>NaN</td>\n",
       "      <td>NaN</td>\n",
       "      <td>NaN</td>\n",
       "      <td>NaN</td>\n",
       "      <td>2023-02-22 12:46:31.903363+00:00</td>\n",
       "    </tr>\n",
       "    <tr>\n",
       "      <th>4</th>\n",
       "      <td>3408</td>\n",
       "      <td>USD Coin</td>\n",
       "      <td>USDC</td>\n",
       "      <td>usd-coin</td>\n",
       "      <td>10266</td>\n",
       "      <td>2018-10-08T00:00:00.000Z</td>\n",
       "      <td>[medium-of-exchange, stablecoin, asset-backed-...</td>\n",
       "      <td>NaN</td>\n",
       "      <td>4.220645e+10</td>\n",
       "      <td>4.220645e+10</td>\n",
       "      <td>...</td>\n",
       "      <td>3.8416</td>\n",
       "      <td>4.220874e+10</td>\n",
       "      <td>None</td>\n",
       "      <td>2023-02-22T12:44:00.000Z</td>\n",
       "      <td>1027.0</td>\n",
       "      <td>Ethereum</td>\n",
       "      <td>ETH</td>\n",
       "      <td>ethereum</td>\n",
       "      <td>0xa0b86991c6218b36c1d19d4a2e9eb0ce3606eb48</td>\n",
       "      <td>2023-02-22 12:46:31.903363+00:00</td>\n",
       "    </tr>\n",
       "  </tbody>\n",
       "</table>\n",
       "<p>5 rows × 36 columns</p>\n",
       "</div>"
      ],
      "text/plain": [
       "     id      name symbol      slug  num_market_pairs  \\\n",
       "0     1   Bitcoin    BTC   bitcoin              9987   \n",
       "1  1027  Ethereum    ETH  ethereum              6490   \n",
       "2   825    Tether   USDT    tether             48028   \n",
       "3  1839       BNB    BNB       bnb              1195   \n",
       "4  3408  USD Coin   USDC  usd-coin             10266   \n",
       "\n",
       "                 date_added  \\\n",
       "0  2013-04-28T00:00:00.000Z   \n",
       "1  2015-08-07T00:00:00.000Z   \n",
       "2  2015-02-25T00:00:00.000Z   \n",
       "3  2017-07-25T00:00:00.000Z   \n",
       "4  2018-10-08T00:00:00.000Z   \n",
       "\n",
       "                                                tags  max_supply  \\\n",
       "0  [mineable, pow, sha-256, store-of-value, state...  21000000.0   \n",
       "1  [pos, smart-contracts, ethereum-ecosystem, coi...         NaN   \n",
       "2  [payments, stablecoin, asset-backed-stablecoin...         NaN   \n",
       "3  [marketplace, centralized-exchange, payments, ...         NaN   \n",
       "4  [medium-of-exchange, stablecoin, asset-backed-...         NaN   \n",
       "\n",
       "   circulating_supply  total_supply  ...  quote.USD.market_cap_dominance  \\\n",
       "0        1.929869e+07  1.929869e+07  ...                         42.5085   \n",
       "1        1.223739e+08  1.223739e+08  ...                         18.3481   \n",
       "2        7.045978e+10  7.314177e+10  ...                          6.4152   \n",
       "3        1.578968e+08  1.599800e+08  ...                          4.4373   \n",
       "4        4.220645e+10  4.220645e+10  ...                          3.8416   \n",
       "\n",
       "   quote.USD.fully_diluted_market_cap  quote.USD.tvl  \\\n",
       "0                        5.080494e+11           None   \n",
       "1                        2.016282e+11           None   \n",
       "2                        7.315602e+10           None   \n",
       "3                        4.940517e+10           None   \n",
       "4                        4.220874e+10           None   \n",
       "\n",
       "     quote.USD.last_updated platform.id platform.name  platform.symbol  \\\n",
       "0  2023-02-22T12:44:00.000Z         NaN           NaN              NaN   \n",
       "1  2023-02-22T12:44:00.000Z         NaN           NaN              NaN   \n",
       "2  2023-02-22T12:44:00.000Z      1027.0      Ethereum              ETH   \n",
       "3  2023-02-22T12:44:00.000Z         NaN           NaN              NaN   \n",
       "4  2023-02-22T12:44:00.000Z      1027.0      Ethereum              ETH   \n",
       "\n",
       "   platform.slug                      platform.token_address  \\\n",
       "0            NaN                                         NaN   \n",
       "1            NaN                                         NaN   \n",
       "2       ethereum  0xdac17f958d2ee523a2206206994597c13d831ec7   \n",
       "3            NaN                                         NaN   \n",
       "4       ethereum  0xa0b86991c6218b36c1d19d4a2e9eb0ce3606eb48   \n",
       "\n",
       "                         timestamp  \n",
       "0 2023-02-22 12:46:31.903363+00:00  \n",
       "1 2023-02-22 12:46:31.903363+00:00  \n",
       "2 2023-02-22 12:46:31.903363+00:00  \n",
       "3 2023-02-22 12:46:31.903363+00:00  \n",
       "4 2023-02-22 12:46:31.903363+00:00  \n",
       "\n",
       "[5 rows x 36 columns]"
      ]
     },
     "execution_count": 38,
     "metadata": {},
     "output_type": "execute_result"
    }
   ],
   "source": [
    "df.head()"
   ]
  },
  {
   "cell_type": "code",
   "execution_count": 39,
   "metadata": {},
   "outputs": [
    {
     "data": {
      "text/plain": [
       "(495, 36)"
      ]
     },
     "execution_count": 39,
     "metadata": {},
     "output_type": "execute_result"
    }
   ],
   "source": [
    "df.shape"
   ]
  },
  {
   "cell_type": "code",
   "execution_count": 36,
   "metadata": {},
   "outputs": [],
   "source": [
    "def api_runner():\n",
    "    global df\n",
    "    url = 'https://pro-api.coinmarketcap.com/v1/cryptocurrency/listings/latest' \n",
    "\n",
    "    parameters = {\n",
    "    'start':'1',\n",
    "    'limit':'15',\n",
    "    'convert':'USD'\n",
    "    }\n",
    "    headers = {\n",
    "    'Accepts': 'application/json',\n",
    "    'X-CMC_PRO_API_KEY': 'b9185df2-6056-449f-8817-1d1973db0895',\n",
    "    }\n",
    "\n",
    "    session = Session()\n",
    "    session.headers.update(headers)\n",
    "\n",
    "    try:\n",
    "        response = session.get(url, params=parameters)\n",
    "        data = json.loads(response.text)\n",
    "        #   print(data)\n",
    "    except (ConnectionError, Timeout, TooManyRedirects) as e:\n",
    "        print(e)\n",
    "\n",
    "    df2= pd.json_normalize(data['data'])\n",
    "    df2['timestamp']= pd.to_datetime('now', utc=True)\n",
    "    df= df.append(df2)\n"
   ]
  },
  {
   "cell_type": "code",
   "execution_count": 37,
   "metadata": {},
   "outputs": [
    {
     "name": "stderr",
     "output_type": "stream",
     "text": [
      "/var/folders/j3/p96cvf3n2kj8wkqchht_g4980000gn/T/ipykernel_2003/2635834709.py:27: FutureWarning: The frame.append method is deprecated and will be removed from pandas in a future version. Use pandas.concat instead.\n",
      "  df= df.append(df2)\n"
     ]
    },
    {
     "name": "stdout",
     "output_type": "stream",
     "text": [
      "API Runner completed\n"
     ]
    },
    {
     "name": "stderr",
     "output_type": "stream",
     "text": [
      "/var/folders/j3/p96cvf3n2kj8wkqchht_g4980000gn/T/ipykernel_2003/2635834709.py:27: FutureWarning: The frame.append method is deprecated and will be removed from pandas in a future version. Use pandas.concat instead.\n",
      "  df= df.append(df2)\n"
     ]
    },
    {
     "name": "stdout",
     "output_type": "stream",
     "text": [
      "API Runner completed\n"
     ]
    },
    {
     "name": "stderr",
     "output_type": "stream",
     "text": [
      "/var/folders/j3/p96cvf3n2kj8wkqchht_g4980000gn/T/ipykernel_2003/2635834709.py:27: FutureWarning: The frame.append method is deprecated and will be removed from pandas in a future version. Use pandas.concat instead.\n",
      "  df= df.append(df2)\n"
     ]
    },
    {
     "name": "stdout",
     "output_type": "stream",
     "text": [
      "API Runner completed\n"
     ]
    },
    {
     "name": "stderr",
     "output_type": "stream",
     "text": [
      "/var/folders/j3/p96cvf3n2kj8wkqchht_g4980000gn/T/ipykernel_2003/2635834709.py:27: FutureWarning: The frame.append method is deprecated and will be removed from pandas in a future version. Use pandas.concat instead.\n",
      "  df= df.append(df2)\n"
     ]
    },
    {
     "name": "stdout",
     "output_type": "stream",
     "text": [
      "API Runner completed\n"
     ]
    },
    {
     "name": "stderr",
     "output_type": "stream",
     "text": [
      "/var/folders/j3/p96cvf3n2kj8wkqchht_g4980000gn/T/ipykernel_2003/2635834709.py:27: FutureWarning: The frame.append method is deprecated and will be removed from pandas in a future version. Use pandas.concat instead.\n",
      "  df= df.append(df2)\n"
     ]
    },
    {
     "name": "stdout",
     "output_type": "stream",
     "text": [
      "API Runner completed\n"
     ]
    },
    {
     "name": "stderr",
     "output_type": "stream",
     "text": [
      "/var/folders/j3/p96cvf3n2kj8wkqchht_g4980000gn/T/ipykernel_2003/2635834709.py:27: FutureWarning: The frame.append method is deprecated and will be removed from pandas in a future version. Use pandas.concat instead.\n",
      "  df= df.append(df2)\n"
     ]
    },
    {
     "name": "stdout",
     "output_type": "stream",
     "text": [
      "API Runner completed\n"
     ]
    },
    {
     "name": "stderr",
     "output_type": "stream",
     "text": [
      "/var/folders/j3/p96cvf3n2kj8wkqchht_g4980000gn/T/ipykernel_2003/2635834709.py:27: FutureWarning: The frame.append method is deprecated and will be removed from pandas in a future version. Use pandas.concat instead.\n",
      "  df= df.append(df2)\n"
     ]
    },
    {
     "name": "stdout",
     "output_type": "stream",
     "text": [
      "API Runner completed\n"
     ]
    },
    {
     "name": "stderr",
     "output_type": "stream",
     "text": [
      "/var/folders/j3/p96cvf3n2kj8wkqchht_g4980000gn/T/ipykernel_2003/2635834709.py:27: FutureWarning: The frame.append method is deprecated and will be removed from pandas in a future version. Use pandas.concat instead.\n",
      "  df= df.append(df2)\n"
     ]
    },
    {
     "name": "stdout",
     "output_type": "stream",
     "text": [
      "API Runner completed\n"
     ]
    },
    {
     "name": "stderr",
     "output_type": "stream",
     "text": [
      "/var/folders/j3/p96cvf3n2kj8wkqchht_g4980000gn/T/ipykernel_2003/2635834709.py:27: FutureWarning: The frame.append method is deprecated and will be removed from pandas in a future version. Use pandas.concat instead.\n",
      "  df= df.append(df2)\n"
     ]
    },
    {
     "name": "stdout",
     "output_type": "stream",
     "text": [
      "API Runner completed\n"
     ]
    },
    {
     "name": "stderr",
     "output_type": "stream",
     "text": [
      "/var/folders/j3/p96cvf3n2kj8wkqchht_g4980000gn/T/ipykernel_2003/2635834709.py:27: FutureWarning: The frame.append method is deprecated and will be removed from pandas in a future version. Use pandas.concat instead.\n",
      "  df= df.append(df2)\n"
     ]
    },
    {
     "name": "stdout",
     "output_type": "stream",
     "text": [
      "API Runner completed\n"
     ]
    },
    {
     "name": "stderr",
     "output_type": "stream",
     "text": [
      "/var/folders/j3/p96cvf3n2kj8wkqchht_g4980000gn/T/ipykernel_2003/2635834709.py:27: FutureWarning: The frame.append method is deprecated and will be removed from pandas in a future version. Use pandas.concat instead.\n",
      "  df= df.append(df2)\n"
     ]
    },
    {
     "name": "stdout",
     "output_type": "stream",
     "text": [
      "API Runner completed\n"
     ]
    },
    {
     "name": "stderr",
     "output_type": "stream",
     "text": [
      "/var/folders/j3/p96cvf3n2kj8wkqchht_g4980000gn/T/ipykernel_2003/2635834709.py:27: FutureWarning: The frame.append method is deprecated and will be removed from pandas in a future version. Use pandas.concat instead.\n",
      "  df= df.append(df2)\n"
     ]
    },
    {
     "name": "stdout",
     "output_type": "stream",
     "text": [
      "API Runner completed\n"
     ]
    },
    {
     "name": "stderr",
     "output_type": "stream",
     "text": [
      "/var/folders/j3/p96cvf3n2kj8wkqchht_g4980000gn/T/ipykernel_2003/2635834709.py:27: FutureWarning: The frame.append method is deprecated and will be removed from pandas in a future version. Use pandas.concat instead.\n",
      "  df= df.append(df2)\n"
     ]
    },
    {
     "name": "stdout",
     "output_type": "stream",
     "text": [
      "API Runner completed\n"
     ]
    },
    {
     "name": "stderr",
     "output_type": "stream",
     "text": [
      "/var/folders/j3/p96cvf3n2kj8wkqchht_g4980000gn/T/ipykernel_2003/2635834709.py:27: FutureWarning: The frame.append method is deprecated and will be removed from pandas in a future version. Use pandas.concat instead.\n",
      "  df= df.append(df2)\n"
     ]
    },
    {
     "name": "stdout",
     "output_type": "stream",
     "text": [
      "API Runner completed\n"
     ]
    },
    {
     "name": "stderr",
     "output_type": "stream",
     "text": [
      "/var/folders/j3/p96cvf3n2kj8wkqchht_g4980000gn/T/ipykernel_2003/2635834709.py:27: FutureWarning: The frame.append method is deprecated and will be removed from pandas in a future version. Use pandas.concat instead.\n",
      "  df= df.append(df2)\n"
     ]
    },
    {
     "name": "stdout",
     "output_type": "stream",
     "text": [
      "API Runner completed\n"
     ]
    },
    {
     "name": "stderr",
     "output_type": "stream",
     "text": [
      "/var/folders/j3/p96cvf3n2kj8wkqchht_g4980000gn/T/ipykernel_2003/2635834709.py:27: FutureWarning: The frame.append method is deprecated and will be removed from pandas in a future version. Use pandas.concat instead.\n",
      "  df= df.append(df2)\n"
     ]
    },
    {
     "name": "stdout",
     "output_type": "stream",
     "text": [
      "API Runner completed\n"
     ]
    },
    {
     "name": "stderr",
     "output_type": "stream",
     "text": [
      "/var/folders/j3/p96cvf3n2kj8wkqchht_g4980000gn/T/ipykernel_2003/2635834709.py:27: FutureWarning: The frame.append method is deprecated and will be removed from pandas in a future version. Use pandas.concat instead.\n",
      "  df= df.append(df2)\n"
     ]
    },
    {
     "name": "stdout",
     "output_type": "stream",
     "text": [
      "API Runner completed\n"
     ]
    },
    {
     "name": "stderr",
     "output_type": "stream",
     "text": [
      "/var/folders/j3/p96cvf3n2kj8wkqchht_g4980000gn/T/ipykernel_2003/2635834709.py:27: FutureWarning: The frame.append method is deprecated and will be removed from pandas in a future version. Use pandas.concat instead.\n",
      "  df= df.append(df2)\n"
     ]
    },
    {
     "name": "stdout",
     "output_type": "stream",
     "text": [
      "API Runner completed\n"
     ]
    },
    {
     "name": "stderr",
     "output_type": "stream",
     "text": [
      "/var/folders/j3/p96cvf3n2kj8wkqchht_g4980000gn/T/ipykernel_2003/2635834709.py:27: FutureWarning: The frame.append method is deprecated and will be removed from pandas in a future version. Use pandas.concat instead.\n",
      "  df= df.append(df2)\n"
     ]
    },
    {
     "name": "stdout",
     "output_type": "stream",
     "text": [
      "API Runner completed\n"
     ]
    },
    {
     "name": "stderr",
     "output_type": "stream",
     "text": [
      "/var/folders/j3/p96cvf3n2kj8wkqchht_g4980000gn/T/ipykernel_2003/2635834709.py:27: FutureWarning: The frame.append method is deprecated and will be removed from pandas in a future version. Use pandas.concat instead.\n",
      "  df= df.append(df2)\n"
     ]
    },
    {
     "name": "stdout",
     "output_type": "stream",
     "text": [
      "API Runner completed\n"
     ]
    },
    {
     "name": "stderr",
     "output_type": "stream",
     "text": [
      "/var/folders/j3/p96cvf3n2kj8wkqchht_g4980000gn/T/ipykernel_2003/2635834709.py:27: FutureWarning: The frame.append method is deprecated and will be removed from pandas in a future version. Use pandas.concat instead.\n",
      "  df= df.append(df2)\n"
     ]
    },
    {
     "name": "stdout",
     "output_type": "stream",
     "text": [
      "API Runner completed\n"
     ]
    },
    {
     "name": "stderr",
     "output_type": "stream",
     "text": [
      "/var/folders/j3/p96cvf3n2kj8wkqchht_g4980000gn/T/ipykernel_2003/2635834709.py:27: FutureWarning: The frame.append method is deprecated and will be removed from pandas in a future version. Use pandas.concat instead.\n",
      "  df= df.append(df2)\n"
     ]
    },
    {
     "name": "stdout",
     "output_type": "stream",
     "text": [
      "API Runner completed\n"
     ]
    },
    {
     "name": "stderr",
     "output_type": "stream",
     "text": [
      "/var/folders/j3/p96cvf3n2kj8wkqchht_g4980000gn/T/ipykernel_2003/2635834709.py:27: FutureWarning: The frame.append method is deprecated and will be removed from pandas in a future version. Use pandas.concat instead.\n",
      "  df= df.append(df2)\n"
     ]
    },
    {
     "name": "stdout",
     "output_type": "stream",
     "text": [
      "API Runner completed\n"
     ]
    },
    {
     "name": "stderr",
     "output_type": "stream",
     "text": [
      "/var/folders/j3/p96cvf3n2kj8wkqchht_g4980000gn/T/ipykernel_2003/2635834709.py:27: FutureWarning: The frame.append method is deprecated and will be removed from pandas in a future version. Use pandas.concat instead.\n",
      "  df= df.append(df2)\n"
     ]
    },
    {
     "name": "stdout",
     "output_type": "stream",
     "text": [
      "API Runner completed\n"
     ]
    },
    {
     "name": "stderr",
     "output_type": "stream",
     "text": [
      "/var/folders/j3/p96cvf3n2kj8wkqchht_g4980000gn/T/ipykernel_2003/2635834709.py:27: FutureWarning: The frame.append method is deprecated and will be removed from pandas in a future version. Use pandas.concat instead.\n",
      "  df= df.append(df2)\n"
     ]
    },
    {
     "name": "stdout",
     "output_type": "stream",
     "text": [
      "API Runner completed\n"
     ]
    },
    {
     "name": "stderr",
     "output_type": "stream",
     "text": [
      "/var/folders/j3/p96cvf3n2kj8wkqchht_g4980000gn/T/ipykernel_2003/2635834709.py:27: FutureWarning: The frame.append method is deprecated and will be removed from pandas in a future version. Use pandas.concat instead.\n",
      "  df= df.append(df2)\n"
     ]
    },
    {
     "name": "stdout",
     "output_type": "stream",
     "text": [
      "API Runner completed\n"
     ]
    },
    {
     "name": "stderr",
     "output_type": "stream",
     "text": [
      "/var/folders/j3/p96cvf3n2kj8wkqchht_g4980000gn/T/ipykernel_2003/2635834709.py:27: FutureWarning: The frame.append method is deprecated and will be removed from pandas in a future version. Use pandas.concat instead.\n",
      "  df= df.append(df2)\n"
     ]
    },
    {
     "name": "stdout",
     "output_type": "stream",
     "text": [
      "API Runner completed\n"
     ]
    },
    {
     "name": "stderr",
     "output_type": "stream",
     "text": [
      "/var/folders/j3/p96cvf3n2kj8wkqchht_g4980000gn/T/ipykernel_2003/2635834709.py:27: FutureWarning: The frame.append method is deprecated and will be removed from pandas in a future version. Use pandas.concat instead.\n",
      "  df= df.append(df2)\n"
     ]
    },
    {
     "name": "stdout",
     "output_type": "stream",
     "text": [
      "API Runner completed\n"
     ]
    },
    {
     "name": "stderr",
     "output_type": "stream",
     "text": [
      "/var/folders/j3/p96cvf3n2kj8wkqchht_g4980000gn/T/ipykernel_2003/2635834709.py:27: FutureWarning: The frame.append method is deprecated and will be removed from pandas in a future version. Use pandas.concat instead.\n",
      "  df= df.append(df2)\n"
     ]
    },
    {
     "name": "stdout",
     "output_type": "stream",
     "text": [
      "API Runner completed\n"
     ]
    },
    {
     "name": "stderr",
     "output_type": "stream",
     "text": [
      "/var/folders/j3/p96cvf3n2kj8wkqchht_g4980000gn/T/ipykernel_2003/2635834709.py:27: FutureWarning: The frame.append method is deprecated and will be removed from pandas in a future version. Use pandas.concat instead.\n",
      "  df= df.append(df2)\n"
     ]
    },
    {
     "name": "stdout",
     "output_type": "stream",
     "text": [
      "API Runner completed\n"
     ]
    },
    {
     "name": "stderr",
     "output_type": "stream",
     "text": [
      "/var/folders/j3/p96cvf3n2kj8wkqchht_g4980000gn/T/ipykernel_2003/2635834709.py:27: FutureWarning: The frame.append method is deprecated and will be removed from pandas in a future version. Use pandas.concat instead.\n",
      "  df= df.append(df2)\n"
     ]
    },
    {
     "name": "stdout",
     "output_type": "stream",
     "text": [
      "API Runner completed\n"
     ]
    },
    {
     "ename": "KeyError",
     "evalue": "'data'",
     "output_type": "error",
     "traceback": [
      "\u001b[0;31m---------------------------------------------------------------------------\u001b[0m",
      "\u001b[0;31mKeyError\u001b[0m                                  Traceback (most recent call last)",
      "Cell \u001b[0;32mIn[37], line 6\u001b[0m\n\u001b[1;32m      3\u001b[0m \u001b[39mfrom\u001b[39;00m \u001b[39mtime\u001b[39;00m \u001b[39mimport\u001b[39;00m sleep\n\u001b[1;32m      5\u001b[0m \u001b[39mfor\u001b[39;00m i \u001b[39min\u001b[39;00m \u001b[39mrange\u001b[39m(\u001b[39m333\u001b[39m):\n\u001b[0;32m----> 6\u001b[0m     api_runner()\n\u001b[1;32m      7\u001b[0m     \u001b[39mprint\u001b[39m(\u001b[39m'\u001b[39m\u001b[39mAPI Runner completed\u001b[39m\u001b[39m'\u001b[39m)\n\u001b[1;32m      8\u001b[0m     sleep(\u001b[39m1\u001b[39m) \u001b[39m#sleep for 1 minute\u001b[39;00m\n",
      "Cell \u001b[0;32mIn[36], line 25\u001b[0m, in \u001b[0;36mapi_runner\u001b[0;34m()\u001b[0m\n\u001b[1;32m     22\u001b[0m \u001b[39mexcept\u001b[39;00m (\u001b[39mConnectionError\u001b[39;00m, Timeout, TooManyRedirects) \u001b[39mas\u001b[39;00m e:\n\u001b[1;32m     23\u001b[0m     \u001b[39mprint\u001b[39m(e)\n\u001b[0;32m---> 25\u001b[0m df2\u001b[39m=\u001b[39m pd\u001b[39m.\u001b[39mjson_normalize(data[\u001b[39m'\u001b[39;49m\u001b[39mdata\u001b[39;49m\u001b[39m'\u001b[39;49m])\n\u001b[1;32m     26\u001b[0m df2[\u001b[39m'\u001b[39m\u001b[39mtimestamp\u001b[39m\u001b[39m'\u001b[39m]\u001b[39m=\u001b[39m pd\u001b[39m.\u001b[39mto_datetime(\u001b[39m'\u001b[39m\u001b[39mnow\u001b[39m\u001b[39m'\u001b[39m, utc\u001b[39m=\u001b[39m\u001b[39mTrue\u001b[39;00m)\n\u001b[1;32m     27\u001b[0m df\u001b[39m=\u001b[39m df\u001b[39m.\u001b[39mappend(df2)\n",
      "\u001b[0;31mKeyError\u001b[0m: 'data'"
     ]
    }
   ],
   "source": [
    "import os \n",
    "from time import time\n",
    "from time import sleep\n",
    "\n",
    "for i in range(333):\n",
    "    api_runner()\n",
    "    print('API Runner completed')\n",
    "    sleep(1) #sleep for 1 minute\n",
    "exit()"
   ]
  },
  {
   "cell_type": "code",
   "execution_count": 40,
   "metadata": {},
   "outputs": [
    {
     "data": {
      "text/plain": [
       "(495, 36)"
      ]
     },
     "execution_count": 40,
     "metadata": {},
     "output_type": "execute_result"
    }
   ],
   "source": [
    "df.shape"
   ]
  }
 ],
 "metadata": {
  "kernelspec": {
   "display_name": "scraping_myenv",
   "language": "python",
   "name": "python3"
  },
  "language_info": {
   "codemirror_mode": {
    "name": "ipython",
    "version": 3
   },
   "file_extension": ".py",
   "mimetype": "text/x-python",
   "name": "python",
   "nbconvert_exporter": "python",
   "pygments_lexer": "ipython3",
   "version": "3.10.9"
  },
  "orig_nbformat": 4,
  "vscode": {
   "interpreter": {
    "hash": "22df59f7ff8dee0fc74d5c8fad63c6cb12349c8b73217a3c1d51476ef58b2604"
   }
  }
 },
 "nbformat": 4,
 "nbformat_minor": 2
}
