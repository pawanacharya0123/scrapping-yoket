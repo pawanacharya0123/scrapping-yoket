{
 "cells": [
  {
   "cell_type": "code",
   "execution_count": 4,
   "metadata": {},
   "outputs": [],
   "source": [
    "from selenium import webdriver\n",
    "from selenium.webdriver.common.keys import Keys\n",
    "from selenium.webdriver.support.ui import WebDriverWait, Select"
   ]
  },
  {
   "cell_type": "code",
   "execution_count": 5,
   "metadata": {},
   "outputs": [],
   "source": [
    "from webdriver_manager.chrome import ChromeDriverManager\n",
    "\n",
    "driver = webdriver.Chrome(ChromeDriverManager().install())\n",
    "url= 'https://yocket.com/'\n",
    "\n",
    "driver.get(url)\n",
    "\n"
   ]
  },
  {
   "cell_type": "code",
   "execution_count": 3,
   "metadata": {},
   "outputs": [],
   "source": [
    "driver.quit()"
   ]
  },
  {
   "cell_type": "code",
   "execution_count": null,
   "metadata": {},
   "outputs": [],
   "source": [
    "# login_button_x_code= '//*[@id=\"login-user-button\"]'\n",
    "driver.execute_script(\"window.stop();\")\n",
    "driver.find_element_by_xpath('//*[@id=\"login-user-button\"]').click()\n",
    "\n"
   ]
  },
  {
   "cell_type": "code",
   "execution_count": null,
   "metadata": {},
   "outputs": [],
   "source": []
  },
  {
   "cell_type": "code",
   "execution_count": null,
   "metadata": {},
   "outputs": [],
   "source": [
    "# print(driver.find_element_by_xpath('//*[@id=\"vs1__combobox\"]/div[1]/span').text)\n",
    "# driver.find_element_by_xpath('//*[@id=\"vs1__combobox\"]/div[1]/span').send_keys(\"NP + (977)\")\n",
    "# driver.find_element_by_xpath('//*[@id=\"mobileInput\"]').send_keys('9842495518')"
   ]
  },
  {
   "cell_type": "code",
   "execution_count": null,
   "metadata": {},
   "outputs": [],
   "source": [
    "driver.find_element_by_xpath('//*[@id=\"__layout\"]/div/div/div[2]/div/div[2]/div/div/div/div[2]/form/span').click()"
   ]
  },
  {
   "cell_type": "code",
   "execution_count": null,
   "metadata": {},
   "outputs": [],
   "source": [
    "email_address= 'bestpaawan@gmail.com'\n",
    "driver.find_element_by_xpath('//*[@id=\"__layout\"]/div/div/div[2]/div/div[2]/div/div/div/div[2]/form/div[1]/input').send_keys(email_address)\n",
    "driver.find_element_by_xpath('//*[@id=\"__layout\"]/div/div/div[2]/div/div[2]/div/div/div/div[2]/form/div[2]/button').click()"
   ]
  },
  {
   "cell_type": "code",
   "execution_count": null,
   "metadata": {},
   "outputs": [],
   "source": [
    "# OTP Step pending"
   ]
  },
  {
   "cell_type": "code",
   "execution_count": null,
   "metadata": {},
   "outputs": [],
   "source": [
    "universities_in_usa_URL= 'https://yocket.com/universities/usa'\n",
    "driver.get(universities_in_usa_URL)\n"
   ]
  },
  {
   "cell_type": "code",
   "execution_count": null,
   "metadata": {},
   "outputs": [],
   "source": [
    "# //*[@id=\"__layout\"]/div/div[2]/div/main/div/div/div[2]/div[2]/div[1]/div[5]"
   ]
  },
  {
   "cell_type": "code",
   "execution_count": null,
   "metadata": {},
   "outputs": [],
   "source": [
    "# driver.find_element_by_xpath('//*[@id=\"__layout\"]/div/div[2]/div/main/div/div/div[2]/div[2]/div[2]/div/button').click()"
   ]
  },
  {
   "cell_type": "code",
   "execution_count": null,
   "metadata": {},
   "outputs": [],
   "source": [
    "# elements = driver.find_elements_by_xpath('//*[@id=\"__layout\"]/div/div[2]/div/main/div/div/div[2]/div[2]/div[2]/div/button')\n",
    "while len(driver.find_elements_by_xpath('//*[@id=\"__layout\"]/div/div[2]/div/main/div/div/div[2]/div[2]/div[2]/div/button'))> 0:\n",
    "    driver.find_elements_by_xpath('//*[@id=\"__layout\"]/div/div[2]/div/main/div/div/div[2]/div[2]/div[2]/div/button')[0].click()\n",
    "    driver.implicitly_wait(40)"
   ]
  },
  {
   "cell_type": "code",
   "execution_count": null,
   "metadata": {},
   "outputs": [],
   "source": [
    "# universities= driver.find_elements_by_xpath('//*[@id=\"__layout\"]/div/div[2]/div/main/div/div/div[2]/div[2]/div[1]')\n",
    "# for university in universities:\n",
    "#     print(university)"
   ]
  },
  {
   "cell_type": "code",
   "execution_count": null,
   "metadata": {},
   "outputs": [],
   "source": [
    "universities_main_card= driver.find_element_by_xpath('//*[@id=\"__layout\"]/div/div[2]/div/main/div/div/div[2]/div[2]/div')\n",
    "# driver.find_elements_by_class_name(\"w-full h-full lg:h-auto my-3 lg:my-0\")"
   ]
  },
  {
   "cell_type": "code",
   "execution_count": null,
   "metadata": {},
   "outputs": [],
   "source": [
    "university_names= []\n",
    "\n",
    "universitites_card= universities_main_card.find_elements_by_css_selector(\"[data-se='university-card']\")\n",
    "print(len(universitites_card))\n",
    "counter= 0\n",
    "for university_card in universitites_card:\n",
    "    uni_redirect= university_card.find_element_by_css_selector(\"[data-se='university-redirect-link']\")\n",
    "    \n",
    "    uni_name= uni_redirect.find_elements_by_tag_name('p')[0].text\n",
    "    uni_address= university_card.find_elements_by_class_name('text-yocket-neutral-500')[0].text\n",
    "    uni_url= university_card.find_elements_by_tag_name('a')[0].get_attribute('href')\n",
    "    university_names.append({\n",
    "        \"name\": uni_name, \n",
    "        'address': uni_address, \n",
    "        'url': uni_url\n",
    "    })\n",
    "\n",
    "    # if(counter>=3):\n",
    "    #     break\n",
    "    # counter=counter+1"
   ]
  },
  {
   "cell_type": "code",
   "execution_count": null,
   "metadata": {},
   "outputs": [],
   "source": [
    "\n",
    "universitites_card= universities_main_card.find_elements_by_css_selector(\"[data-se='university-card']\")\n",
    "print(len(universitites_card))\n",
    "counter= 0\n",
    "for university_card in universitites_card:\n",
    "    print(university_card)\n",
    "    print(university_card.find_element_by_xpath('//*[@id=\"__layout\"]/div/div[2]/div/main/div/div/div[2]/div[2]/div/div[1]/div/div/div[2]/div[1]/a/p').text)\n",
    "    if(counter>3):\n",
    "        break\n",
    "    counter=counter+1\n",
    "    # print(university_card.find_element_by_xpath('//*[@id=\"__layout\"]/div/div[2]/div/main/div/div/div[2]/div[2]/div/div[1]/div/div/div[2]/div[1]/a/p').text)"
   ]
  },
  {
   "cell_type": "code",
   "execution_count": null,
   "metadata": {},
   "outputs": [],
   "source": [
    "\n",
    "uni_p= universities_main_card.find_elements_by_class_name('text-yocket-neutral-900')\n",
    "len(uni_p)"
   ]
  },
  {
   "cell_type": "code",
   "execution_count": null,
   "metadata": {},
   "outputs": [],
   "source": [
    "university_names= []\n",
    "\n",
    "counter= 0\n",
    "for p in uni_p:\n",
    "    # print(p.text)\n",
    "    university_names.append({'name':p.text})\n",
    "    # if(counter>500):\n",
    "    #     break\n",
    "    # counter=counter+1\n"
   ]
  },
  {
   "cell_type": "code",
   "execution_count": null,
   "metadata": {},
   "outputs": [],
   "source": [
    "import pandas as pd"
   ]
  },
  {
   "cell_type": "code",
   "execution_count": null,
   "metadata": {},
   "outputs": [],
   "source": [
    "df_all= pd.DataFrame(university_names)\n",
    "df_all.head(10)"
   ]
  },
  {
   "cell_type": "code",
   "execution_count": null,
   "metadata": {},
   "outputs": [],
   "source": [
    "un_necessary= ['Premium', 'Moderate', 'Available', 'High-end', 'Reasonable', 'Economical']\n",
    "df= df_all.loc[~(df_all['name'].isin(un_necessary))].copy().reset_index(drop=True)\n",
    "df.head(10)"
   ]
  },
  {
   "cell_type": "code",
   "execution_count": null,
   "metadata": {},
   "outputs": [],
   "source": [
    "df['name'].value_counts()"
   ]
  },
  {
   "cell_type": "code",
   "execution_count": null,
   "metadata": {},
   "outputs": [],
   "source": [
    "df.count()"
   ]
  },
  {
   "cell_type": "code",
   "execution_count": null,
   "metadata": {},
   "outputs": [],
   "source": [
    "df_all.to_excel('universities_in_usa.xlsx')"
   ]
  },
  {
   "cell_type": "code",
   "execution_count": null,
   "metadata": {},
   "outputs": [],
   "source": [
    "url_harvard= 'https://yocket.com/universities/harvard-university-2574'\n",
    "driver.get(url_harvard)"
   ]
  },
  {
   "cell_type": "code",
   "execution_count": null,
   "metadata": {},
   "outputs": [],
   "source": [
    "\n",
    "driver.find_element_by_xpath('//*[@id=\"Courses\"]/div/div[2]/div[2]/a').click()"
   ]
  },
  {
   "cell_type": "code",
   "execution_count": null,
   "metadata": {},
   "outputs": [],
   "source": [
    "# //*[@id=\"Courses\"]/div[3]/div[2]/button\n",
    "while len(driver.find_elements_by_xpath('//*[@id=\"Courses\"]/div[3]/div[2]/button'))> 0:\n",
    "    driver.find_elements_by_xpath('//*[@id=\"Courses\"]/div[3]/div[2]/button')[0].click()\n",
    "    driver.implicitly_wait(30)"
   ]
  },
  {
   "cell_type": "code",
   "execution_count": null,
   "metadata": {},
   "outputs": [],
   "source": [
    "# //*[@id=\"Courses\"]/div[3]/div/div/div[2]\n",
    "\n",
    "courses_in_Harward= []\n",
    "uni_courses_list=driver.find_elements_by_xpath('//*[@id=\"Courses\"]/div[3]/div/div/div')\n",
    "print(len(uni_courses_list))\n",
    "counter = 0\n",
    "for course in uni_courses_list:\n",
    "    # print(course)\n",
    "    title= course.find_element_by_xpath('//*[@id=\"Courses\"]/div[3]/div/div/div[3]/div[1]/div[1]/h3/a').text\n",
    "    degree_type= course.find_element_by_xpath('//*[@id=\"Courses\"]/div[3]/div/div/div[3]/div[1]/div[2]/div[2]/p').text\n",
    "    duration= course.find_element_by_xpath('//*[@id=\"Courses\"]/div[3]/div/div/div[3]/div[1]/div[2]/div[3]/p').text\n",
    "    tution_fee= course.find_element_by_xpath('//*[@id=\"Courses\"]/div[3]/div/div/div[3]/div[1]/div[2]/div[4]/p').text\n",
    "    deadline= course.find_element_by_xpath('//*[@id=\"Courses\"]/div[3]/div/div/div[3]/div[1]/div[2]/div[1]/p').text\n",
    "    course_details={\n",
    "        'title': title, \n",
    "        'degree_type': degree_type, \n",
    "        'duration': duration, \n",
    "        'tution_fee': tution_fee, \n",
    "        'deadline': deadline\n",
    "    }\n",
    "    # print('title:', title, ',  degree_type:', degree_type, ', duration:', duration, ', tution_fee:', tution_fee, ', deadline:', deadline)\n",
    "    courses_in_Harward.append(course_details)\n",
    "    if(counter>=5):\n",
    "        break\n",
    "    counter= counter + 1"
   ]
  },
  {
   "cell_type": "code",
   "execution_count": null,
   "metadata": {},
   "outputs": [],
   "source": [
    "ccourses_in_Harward_df= pd.DataFrame(courses_in_Harward)\n",
    "ccourses_in_Harward_df.head()"
   ]
  },
  {
   "cell_type": "code",
   "execution_count": null,
   "metadata": {},
   "outputs": [],
   "source": []
  }
 ],
 "metadata": {
  "kernelspec": {
   "display_name": "scraping_myenv",
   "language": "python",
   "name": "python3"
  },
  "language_info": {
   "codemirror_mode": {
    "name": "ipython",
    "version": 3
   },
   "file_extension": ".py",
   "mimetype": "text/x-python",
   "name": "python",
   "nbconvert_exporter": "python",
   "pygments_lexer": "ipython3",
   "version": "3.10.9 (main, Jan 11 2023, 09:18:18) [Clang 14.0.6 ]"
  },
  "orig_nbformat": 4,
  "vscode": {
   "interpreter": {
    "hash": "22df59f7ff8dee0fc74d5c8fad63c6cb12349c8b73217a3c1d51476ef58b2604"
   }
  }
 },
 "nbformat": 4,
 "nbformat_minor": 2
}
