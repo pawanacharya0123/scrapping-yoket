{
 "cells": [
  {
   "cell_type": "code",
   "execution_count": 29,
   "metadata": {},
   "outputs": [],
   "source": [
    "from selenium import webdriver\n",
    "from selenium.webdriver.common.keys import Keys\n",
    "from selenium.webdriver.support.ui import WebDriverWait"
   ]
  },
  {
   "cell_type": "code",
   "execution_count": 86,
   "metadata": {},
   "outputs": [],
   "source": [
    "from webdriver_manager.chrome import ChromeDriverManager\n",
    "\n",
    "driver = webdriver.Chrome(ChromeDriverManager().install())\n",
    "url= 'http://facebook.com'\n",
    "\n",
    "driver.get(url)\n",
    "\n",
    "driver.find_element_by_xpath('//*[@id=\"email\"]').send_keys('9842495518')\n",
    "driver.find_element_by_xpath('//*[@id=\"pass\"]').send_keys('021461134P@wan')\n",
    "driver.find_element_by_xpath('/html/body/div[1]/div[1]/div[1]/div/div/div/div[2]/div/div[1]/form/div[2]/button').click()\n"
   ]
  },
  {
   "cell_type": "code",
   "execution_count": 38,
   "metadata": {},
   "outputs": [],
   "source": [
    "driver.quit()"
   ]
  },
  {
   "cell_type": "code",
   "execution_count": 39,
   "metadata": {},
   "outputs": [
    {
     "name": "stdout",
     "output_type": "stream",
     "text": [
      "Hello World!\n"
     ]
    }
   ],
   "source": [
    "\n",
    "from webdriver_manager.chrome import ChromeDriverManager\n",
    "\n",
    "driver = webdriver.Chrome(ChromeDriverManager().install())\n",
    "url= 'https://the-internet.herokuapp.com/dynamic_loading/2'\n",
    "\n",
    "driver.get(url)\n",
    "\n",
    "\n",
    "\n",
    "\n",
    "driver.find_element_by_xpath('//*[@id=\"start\"]/button').click()\n",
    "driver.implicitly_wait(10)\n",
    "dummy_text= driver.find_element_by_xpath('//*[@id=\"finish\"]/h4').text\n",
    "\n",
    "print(dummy_text)\n",
    "\n",
    "driver.quit()"
   ]
  },
  {
   "attachments": {},
   "cell_type": "markdown",
   "metadata": {},
   "source": [
    "***youtube***"
   ]
  },
  {
   "cell_type": "code",
   "execution_count": 62,
   "metadata": {},
   "outputs": [],
   "source": [
    "url='https://www.youtube.com/@JohnWatsonRooney/search?query=scrapping'\n",
    "\n",
    "driver = webdriver.Chrome(ChromeDriverManager().install())\n",
    "driver.get(url)"
   ]
  },
  {
   "cell_type": "code",
   "execution_count": 61,
   "metadata": {},
   "outputs": [],
   "source": [
    "driver.quit()"
   ]
  },
  {
   "cell_type": "code",
   "execution_count": 60,
   "metadata": {},
   "outputs": [],
   "source": [
    "import pandas as pd"
   ]
  },
  {
   "cell_type": "code",
   "execution_count": 81,
   "metadata": {},
   "outputs": [],
   "source": [
    "videos_list= []\n"
   ]
  },
  {
   "cell_type": "code",
   "execution_count": 82,
   "metadata": {},
   "outputs": [
    {
     "name": "stdout",
     "output_type": "stream",
     "text": [
      "The Biggest Mistake Beginners Make When Web Scraping 42K views 9 months ago\n",
      "The Biggest Mistake Beginners Make When Web Scraping 42K views 9 months ago\n",
      "Always Check for the Hidden API when Web Scraping 469K views 1 year ago\n",
      "Web Scraping Methods You NEED to Know 5.6K views 3 weeks ago\n",
      "How to SCRAPE DYNAMIC websites with Selenium 118K views 3 years ago\n",
      "Web Scraping NEWS Articles with Python 35K views 2 years ago\n",
      "Web Scraping Weather Data with Python 33K views 1 year ago\n",
      "Login and Scrape Data with Playwright and Python 44K views 1 year ago\n",
      "Web Scrape Websites with a LOGIN - Python Basic Auth 75K views 3 years ago\n",
      "I Don't Waste Time Parsing HTML (So I do THIS) 52K views 9 months ago\n",
      "How I Scrape multiple pages on Amazon with Python, Requests & BeautifulSoup 60K views 2 years ago\n",
      "Hidden APIs with Scrapy - easy JSON data extraction 25K views 1 year ago\n",
      "This is how I scrape data from iframes 7K views 7 months ago\n",
      "I Tried 100s of Free Proxies, Here's the results. 10K views 8 months ago\n",
      "Web Scraping with Python: Ecommerce Product Pages. In Depth including troubleshooting 105K views 2 years ago\n",
      "Find the best prices for stuff with Python web scraping 5.1K views 3 years ago\n",
      "Learn Web Scraping With Python: Full Project - HTML, Save to CSV, Pagination 23K views 1 year ago\n",
      "How to Rotate Proxies with Python 88K views 2 years ago\n",
      "Scrape LIVE scores - No BeautifulSoup or Selenium NEEDED! 32K views 1 year ago\n",
      "Turn Websites into Real Time API's with ScrapyRT 7.6K views 1 year ago\n",
      "My Indeed Web Scraper Stopped Working. Here's Why 8.7K views 6 months ago\n",
      "GO for Beginners - Web Scraping with Golang Tutorial 15K views 10 months ago\n",
      "How Web Scrape Multiple Pages with ONE Function with Python 37K views 2 years ago\n",
      "A Short and SIMPLE HTML Web Scraper in 6 lines of CODE 3.3K views 1 year ago\n",
      "Render Dynamic Pages - Web Scraping Product Links with Python 35K views 2 years ago\n",
      "Following LINKS Automatically with Scrapy CrawlSpider 16K views 1 year ago\n",
      "How I Scrape JAVASCRIPT websites with Python 49K views 2 years ago\n",
      "Create A Web Scraper Class in Python and requests-html 7.7K views 1 year ago\n",
      "How to Parse HTML Tables to JSON With Python 8K views 1 year ago\n",
      "Python Web scraping - Script to CSV or Excel 12K views 3 years ago\n",
      "Full Project with Scrapy - The BEST Scraping Framework 8.7K views 3 months ago\n"
     ]
    }
   ],
   "source": [
    "videos= driver.find_elements_by_xpath('//*[@id=\"contents\"]')\n",
    "# videos= driver.find_elements_by_xpath('//*[@id=\"contents\"] [contains(@class, \"style-scope ytd-section-list-renderer\")]')\n",
    "# print(videos)\n",
    "\n",
    "\n",
    "for video in videos:\n",
    "    title= video.find_element_by_xpath('.//*[@id=\"video-title\"]').text\n",
    "    views= video.find_element_by_xpath('.//*[@id=\"metadata-line\"]/span[1]').text\n",
    "    when= video.find_element_by_xpath('.//*[@id=\"metadata-line\"]/span[2]').text\n",
    "    print(title, views, when)\n",
    "    video_item={\n",
    "        'title': title,\n",
    "        'views': views,\n",
    "        'when': when\n",
    "    }\n",
    "    videos_list.append(video_item)\n"
   ]
  },
  {
   "cell_type": "code",
   "execution_count": 83,
   "metadata": {},
   "outputs": [],
   "source": [
    "df= pd.DataFrame(videos_list)"
   ]
  },
  {
   "cell_type": "code",
   "execution_count": 85,
   "metadata": {},
   "outputs": [
    {
     "data": {
      "text/html": [
       "<div>\n",
       "<style scoped>\n",
       "    .dataframe tbody tr th:only-of-type {\n",
       "        vertical-align: middle;\n",
       "    }\n",
       "\n",
       "    .dataframe tbody tr th {\n",
       "        vertical-align: top;\n",
       "    }\n",
       "\n",
       "    .dataframe thead th {\n",
       "        text-align: right;\n",
       "    }\n",
       "</style>\n",
       "<table border=\"1\" class=\"dataframe\">\n",
       "  <thead>\n",
       "    <tr style=\"text-align: right;\">\n",
       "      <th></th>\n",
       "      <th>title</th>\n",
       "      <th>views</th>\n",
       "      <th>when</th>\n",
       "    </tr>\n",
       "  </thead>\n",
       "  <tbody>\n",
       "    <tr>\n",
       "      <th>0</th>\n",
       "      <td>The Biggest Mistake Beginners Make When Web Sc...</td>\n",
       "      <td>42K views</td>\n",
       "      <td>9 months ago</td>\n",
       "    </tr>\n",
       "    <tr>\n",
       "      <th>1</th>\n",
       "      <td>The Biggest Mistake Beginners Make When Web Sc...</td>\n",
       "      <td>42K views</td>\n",
       "      <td>9 months ago</td>\n",
       "    </tr>\n",
       "    <tr>\n",
       "      <th>2</th>\n",
       "      <td>Always Check for the Hidden API when Web Scraping</td>\n",
       "      <td>469K views</td>\n",
       "      <td>1 year ago</td>\n",
       "    </tr>\n",
       "    <tr>\n",
       "      <th>3</th>\n",
       "      <td>Web Scraping Methods You NEED to Know</td>\n",
       "      <td>5.6K views</td>\n",
       "      <td>3 weeks ago</td>\n",
       "    </tr>\n",
       "    <tr>\n",
       "      <th>4</th>\n",
       "      <td>How to SCRAPE DYNAMIC websites with Selenium</td>\n",
       "      <td>118K views</td>\n",
       "      <td>3 years ago</td>\n",
       "    </tr>\n",
       "  </tbody>\n",
       "</table>\n",
       "</div>"
      ],
      "text/plain": [
       "                                               title       views          when\n",
       "0  The Biggest Mistake Beginners Make When Web Sc...   42K views  9 months ago\n",
       "1  The Biggest Mistake Beginners Make When Web Sc...   42K views  9 months ago\n",
       "2  Always Check for the Hidden API when Web Scraping  469K views    1 year ago\n",
       "3              Web Scraping Methods You NEED to Know  5.6K views   3 weeks ago\n",
       "4       How to SCRAPE DYNAMIC websites with Selenium  118K views   3 years ago"
      ]
     },
     "execution_count": 85,
     "metadata": {},
     "output_type": "execute_result"
    }
   ],
   "source": [
    "df.head()"
   ]
  },
  {
   "cell_type": "code",
   "execution_count": null,
   "metadata": {},
   "outputs": [],
   "source": []
  }
 ],
 "metadata": {
  "kernelspec": {
   "display_name": "scraping_myenv",
   "language": "python",
   "name": "python3"
  },
  "language_info": {
   "codemirror_mode": {
    "name": "ipython",
    "version": 3
   },
   "file_extension": ".py",
   "mimetype": "text/x-python",
   "name": "python",
   "nbconvert_exporter": "python",
   "pygments_lexer": "ipython3",
   "version": "3.10.9"
  },
  "orig_nbformat": 4,
  "vscode": {
   "interpreter": {
    "hash": "22df59f7ff8dee0fc74d5c8fad63c6cb12349c8b73217a3c1d51476ef58b2604"
   }
  }
 },
 "nbformat": 4,
 "nbformat_minor": 2
}
